{
 "cells": [
  {
   "cell_type": "markdown",
   "id": "46ebfcfc",
   "metadata": {},
   "source": [
    "# 🧠 designPro Lab #002: User Flow Wireframe Generator\n",
    "\n",
    "**Lab Type:** Project  \n",
    "**Estimated Time:** 60–120 mins  \n",
    "**Skill Level:** Intermediate"
   ]
  },
  {
   "cell_type": "code",
   "execution_count": null,
   "id": "39478fa8",
   "metadata": {},
   "outputs": [],
   "source": [
    "# Let's begin by printing your name to personalize the notebook\n",
    "your_name = \"\"\n",
    "print(f\"Welcome to the lab, {your_name}!\")"
   ]
  },
  {
   "cell_type": "markdown",
   "id": "6bc6a1dd",
   "metadata": {},
   "source": [
    "## 🔍 STAR Method Lab Prompt\n",
    "\n",
    "**Situation:**  \n",
    "[What user problem or opportunity are you building around?]\n",
    "\n",
    "**Task:**  \n",
    "[What part of the product process are you simulating or testing?]\n",
    "\n",
    "**Action:**  \n",
    "[What tools, prompts, or techniques will you use?]\n",
    "\n",
    "**Expected Result:**  \n",
    "[A visual, doc, or prototype representing your solution.]"
   ]
  },
  {
   "cell_type": "markdown",
   "id": "e6e48a5c",
   "metadata": {},
   "source": [
    "## ✍️ Your Assignment\n",
    "\n",
    "_Use this section to complete your deliverable:_\n",
    "\n",
    "```markdown\n",
    "(Example Format)\n",
    "\n",
    "- **Feature Flow**: Sign up → Onboard → Use Tracker → View Results  \n",
    "- **Tools Used**: Gemini for steps, Figma for wireframes  \n",
    "- **Steps**: 1) Welcome, 2) Input data, 3) Graph view, 4) Daily tips  \n",
    "- **STAR Output**:  \n",
    "   - S: Users drop off before value is seen  \n",
    "   - T: Improve first-use flow clarity  \n",
    "   - A: Designed 4-screen wireframe  \n",
    "   - R: Clearer UX shown via mock  \n",
    "```"
   ]
  }
 ],
 "metadata": {},
 "nbformat": 4,
 "nbformat_minor": 5
}
